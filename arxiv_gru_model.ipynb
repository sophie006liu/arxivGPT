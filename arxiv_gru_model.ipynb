{
  "cells": [
    {
      "cell_type": "code",
      "execution_count": 35,
      "metadata": {
        "id": "OpupC9KYOODg"
      },
      "outputs": [],
      "source": [
        "import torch\n",
        "import torch.nn as nn\n",
        "import torch.optim as optim\n",
        "import torch.utils.data as data\n",
        "import numpy as np\n",
        "from sklearn.model_selection import train_test_split\n",
        "from tqdm import tqdm\n",
        "import numpy as np\n",
        "\n",
        "# Parameters\n",
        "n_epochs = 100\n",
        "batch_size = 128\n",
        "hidden_size = 128\n",
        "seq_length = 70\n",
        "max_seq_length = 110 # I have too many data points and not enough RAM so filtering out sequences that are too long"
      ]
    },
    {
      "cell_type": "code",
      "execution_count": 36,
      "metadata": {
        "id": "oSBVNAssveYU"
      },
      "outputs": [],
      "source": [
        "# Parameters: max length\n",
        "filename = \"all_arxiv_titles.txt\"\n",
        "raw_text = open(filename, 'r', encoding='utf-8').read().lower()\n",
        "chars = sorted(list(set(raw_text)))\n",
        "\n",
        "raw_text = raw_text.splitlines()\n",
        "\n",
        "titles = []\n",
        "\n",
        "def special_characters(s):\n",
        "  special_characters = [\"\\\\\", \"^\", \"!\", \"*\", \"/\"]\n",
        "  for c in special_characters:\n",
        "    if c in s:\n",
        "      return True\n",
        "    return False\n",
        "\n",
        "# Cleaning up data: Filtering out titles with special characters for easier learning and because I have too many datapoints\n",
        "for line in raw_text:\n",
        "  if len(line) > seq_length and len(line) < max_seq_length and not special_characters(line):\n",
        "    titles.append(line)"
      ]
    },
    {
      "cell_type": "code",
      "execution_count": null,
      "metadata": {
        "colab": {
          "base_uri": "https://localhost:8080/"
        },
        "id": "bbcb5XaK02Ms",
        "outputId": "7ce8b7c4-4139-44ca-8261-0c340d2c2d59"
      },
      "outputs": [
        {
          "name": "stdout",
          "output_type": "stream",
          "text": [
            "total variation distance between sdes with stable noise and brownian motion with applications to poisson pdes 39 109\n"
          ]
        }
      ],
      "source": [
        "#Data visualization: See the longest\n",
        "print(\"We have \" + str(len(titles)) + \" in total\")\n",
        "lengths = [len(s) for s in titles]\n",
        "max_index = np.argmax(lengths)\n",
        "maxlen, minlen = max(lengths), min(lengths)\n",
        "print(titles[max_index], max_index, len(titles[max_index]))\n",
        "\n",
        "#vocab size\n",
        "num_chars = len(chars)"
      ]
    },
    {
      "cell_type": "code",
      "execution_count": null,
      "metadata": {
        "id": "beKiLaX6OODj"
      },
      "outputs": [],
      "source": [
        "# Constructing Dataset Substrings\n",
        "char_to_int = dict((c,i) for i,c in enumerate(chars))\n",
        "\n",
        "dataX = []\n",
        "dataY = []\n",
        "\n",
        "# The input is a bunch of substrings of each title at a fixed length\n",
        "# The output/label is the next character\n",
        "for title in titles:\n",
        "  for i in range(0, len(title) - seq_length):\n",
        "      dataX.append(title[i: i + seq_length])\n",
        "      dataY.append(title[i + seq_length])\n"
      ]
    },
    {
      "cell_type": "code",
      "execution_count": null,
      "metadata": {
        "id": "7akwUuktzuS_"
      },
      "outputs": [],
      "source": [
        "# Dataset Preparation: Constructing the tensors\n",
        "\n",
        "# First dimension is the number of datapoints\n",
        "# Second dimension: each datapoint has seq_length timesteps i.e. characters\n",
        "# Third dimension: Each character is one hot encoded, so it's a vector of len(chars)\n",
        "x = np.zeros((len(dataX), seq_length, len(chars)), dtype=float)\n",
        "y = np.zeros((len(dataX), len(chars)), dtype=float)\n",
        "\n",
        "for i, title_prefix in enumerate(dataX): #i-th data point, i.e. i-th title\n",
        "    for t, char in enumerate(title_prefix): #tth character in the title\n",
        "        x[i, t, char_to_int[char]] = 1\n",
        "    y[i, char_to_int[dataY[i]]] = 1\n",
        "\n",
        "x = torch.tensor(x).to(torch.float32)\n",
        "y = torch.tensor(y).to(torch.float32)"
      ]
    },
    {
      "cell_type": "code",
      "execution_count": null,
      "metadata": {
        "id": "Y-eveShObq9B"
      },
      "outputs": [],
      "source": [
        "\n",
        "# Split data into training and testing sets\n",
        "X_train, X_test, y_train, y_test = train_test_split(x, y, test_size=0.2, random_state=42)\n",
        "\n",
        "# Create DataLoaders\n",
        "train_loader = data.DataLoader(data.TensorDataset(X_train, y_train), shuffle=True, batch_size=batch_size)\n",
        "test_loader = data.DataLoader(data.TensorDataset(X_test, y_test), shuffle=False, batch_size=batch_size)\n"
      ]
    },
    {
      "cell_type": "code",
      "execution_count": null,
      "metadata": {
        "colab": {
          "base_uri": "https://localhost:8080/"
        },
        "id": "f540Lsc_wEVB",
        "outputId": "44889dcc-c273-449b-c81a-d9e61b0a9ddc"
      },
      "outputs": [
        {
          "name": "stdout",
          "output_type": "stream",
          "text": [
            "torch.Size([69194, 70, 62])\n"
          ]
        }
      ],
      "source": [
        "print(X_train.shape)"
      ]
    },
    {
      "cell_type": "code",
      "source": [
        "class GRUModel(nn.Module):\n",
        "    def __init__(self, hidden_size, maxlen, num_chars):\n",
        "        super(GRUModel, self).__init__()\n",
        "        self.gru = nn.GRU(input_size=num_chars, hidden_size=hidden_size, num_layers=1, batch_first=True)\n",
        "        self.fc = nn.Linear(hidden_size, num_chars)\n",
        "\n",
        "    def forward(self, x):\n",
        "        out, _ = self.gru(x)\n",
        "        out = out[:, -1, :]\n",
        "        out = self.fc(out)\n",
        "        return out"
      ],
      "metadata": {
        "id": "B23Timaj5VlK"
      },
      "execution_count": 37,
      "outputs": []
    },
    {
      "cell_type": "code",
      "source": [
        "# Initialize model, optimizer, and loss function\n",
        "model = GRUModel(hidden_size, seq_length, num_chars)\n",
        "optimizer = optim.Adam(model.parameters())\n",
        "loss_fn = nn.CrossEntropyLoss(reduction=\"sum\")\n",
        "\n",
        "pretrained = True\n",
        "if pretrained:\n",
        "  try:\n",
        "      checkpoint = torch.load(\"gru.pth\")\n",
        "      print(checkpoint)\n",
        "      model.load_state_dict(checkpoint[0])\n",
        "      char_to_int = checkpoint[1]\n",
        "      print(\"Loaded pre-trained model\")\n",
        "  except FileNotFoundError:\n",
        "      print(\"No pre-trained model found, training from scratch\")\n"
      ],
      "metadata": {
        "colab": {
          "base_uri": "https://localhost:8080/"
        },
        "id": "pctixnF05f-D",
        "outputId": "16dfc7fb-477e-4297-9e35-3f3c7caaef18"
      },
      "execution_count": 61,
      "outputs": [
        {
          "output_type": "stream",
          "name": "stdout",
          "text": [
            "[OrderedDict([('gru.weight_ih_l0', tensor([[-0.0775, -0.0241, -0.0691,  ..., -0.0652, -0.0764, -0.0978],\n",
            "        [-0.0634, -0.7764,  0.0173,  ..., -1.8852,  0.0607,  0.4673],\n",
            "        [ 0.0684, -0.7741,  0.0130,  ...,  0.7599,  0.0452, -0.2084],\n",
            "        ...,\n",
            "        [ 0.0553,  0.4371,  0.0355,  ...,  1.0812,  0.0123,  0.4369],\n",
            "        [ 0.0798,  0.0936, -0.0465,  ..., -0.8510, -0.0583, -0.4165],\n",
            "        [-0.0590,  0.0244, -0.0711,  ...,  0.2479, -0.0270, -0.2188]])), ('gru.weight_hh_l0', tensor([[-1.0715, -0.4643,  0.2535,  ..., -0.2104,  0.0946, -0.2188],\n",
            "        [-0.1557, -0.5505, -0.1002,  ...,  0.1397, -0.3605,  0.0515],\n",
            "        [-0.3736, -0.0759, -0.1117,  ..., -0.1969, -0.0260,  0.0476],\n",
            "        ...,\n",
            "        [ 0.1859,  0.2638,  0.4203,  ..., -0.2255,  0.5151, -0.2171],\n",
            "        [ 0.0764, -0.2539,  0.3958,  ...,  0.3364,  0.1704,  0.1478],\n",
            "        [-0.3593,  0.2668, -0.0479,  ..., -0.0795, -0.3739,  0.0870]])), ('gru.bias_ih_l0', tensor([ 2.7191e-01, -1.3049e-03, -1.7128e-01,  2.1323e-01, -5.1980e-02,\n",
            "        -6.5288e-02,  4.1834e-02, -1.3659e-01, -1.1664e-01, -3.3451e-02,\n",
            "         6.2466e-02,  4.6679e-02,  7.3314e-02, -2.5447e-02,  1.0875e-01,\n",
            "         6.1526e-02,  8.2103e-02,  6.1386e-02,  7.4385e-02, -9.7329e-02,\n",
            "        -1.1096e-01, -8.8660e-02,  3.8418e-02, -3.0953e-02,  1.0454e-01,\n",
            "         8.8540e-03, -2.6928e-02,  1.8914e-01,  1.0042e-01,  1.5375e-01,\n",
            "         1.4547e-01,  4.2256e-02,  1.2727e-01, -1.8347e-01,  1.3881e-01,\n",
            "        -8.2259e-02, -1.0661e-01, -3.8639e-01, -9.4821e-03,  3.6536e-02,\n",
            "        -8.7370e-02,  4.0093e-01,  5.7822e-02,  8.6884e-02,  7.9159e-02,\n",
            "         4.6700e-02, -4.8139e-02,  7.2784e-02, -2.0823e-01,  1.4096e-02,\n",
            "         7.1705e-02,  1.2321e-02, -4.1727e-03,  3.2520e-03,  2.1929e-01,\n",
            "        -1.4168e-02,  5.2385e-02, -7.0964e-02, -1.8089e-01,  2.8832e-01,\n",
            "         3.9618e-01, -4.3713e-02,  3.7215e-02, -1.4030e-02,  2.0561e-01,\n",
            "        -7.6033e-02, -6.6657e-02,  1.1788e-01,  7.7203e-02,  1.1242e-01,\n",
            "        -1.4389e-01, -1.3304e-01, -2.1534e-01, -3.3715e-02, -1.1207e-01,\n",
            "         1.5262e-01,  1.6077e-01, -6.2648e-02,  1.2203e-02, -1.6658e-01,\n",
            "         1.5431e-01, -1.2053e-01,  1.4794e-02,  3.1665e-02, -2.8483e-02,\n",
            "         1.4851e-01, -4.0630e-01, -8.6939e-02,  7.5886e-02,  1.4706e-01,\n",
            "         1.4476e-02,  9.4846e-02, -5.9400e-02, -9.0439e-02,  6.3195e-02,\n",
            "         1.2858e-01,  1.3006e-01, -1.5792e-01,  9.3802e-02,  1.0630e-02,\n",
            "        -8.2749e-02, -1.1104e-01, -1.6746e-01, -2.5129e-02,  2.9998e-02,\n",
            "         5.1640e-02, -1.8730e-02,  7.2306e-03, -1.9170e-01, -1.6875e-01,\n",
            "         7.9535e-03,  2.9734e-02,  9.8080e-02,  7.5526e-02, -1.2405e-01,\n",
            "        -2.4411e-01,  1.2082e-01,  2.7660e-01,  7.4178e-02, -1.6277e-01,\n",
            "         8.3214e-02, -9.8482e-03,  3.4549e-01, -1.0922e-01,  8.2628e-03,\n",
            "        -2.4107e-02, -4.7697e-03,  1.2947e-01, -1.6543e-01, -1.7669e-01,\n",
            "        -1.3934e-01, -5.5066e-01, -5.9143e-01, -4.3113e-01, -3.7506e-01,\n",
            "        -2.1366e-01, -2.3689e-01, -3.5990e-01, -1.8753e-01, -3.4675e-01,\n",
            "        -4.4497e-01, -2.3585e-01, -4.2418e-01, -1.0118e-01,  1.1273e-01,\n",
            "        -2.4420e-01, -2.9676e-01, -1.6366e-01, -1.9853e-01, -5.0184e-01,\n",
            "        -7.3737e-01, -6.5238e-01, -6.1177e-01, -1.5537e-01, -6.4795e-01,\n",
            "        -3.5832e-01, -2.0494e-01, -2.6074e-01, -9.9496e-02, -5.5629e-01,\n",
            "        -3.6520e-01, -3.6234e-01, -4.5164e-01, -6.0449e-01, -2.5450e-02,\n",
            "        -4.8585e-01, -3.1020e-01, -4.2082e-01, -3.9906e-01, -2.0551e-01,\n",
            "        -3.4229e-01, -2.8574e-01, -2.0841e-01, -2.1859e-01,  4.1061e-02,\n",
            "        -2.0541e-02, -3.0989e-01, -5.1496e-01, -2.8728e-01, -3.2900e-01,\n",
            "        -2.3997e-04, -2.8437e-01, -4.5416e-01, -1.2983e-01, -5.7005e-01,\n",
            "        -2.6771e-01, -3.7492e-01, -3.8068e-01, -3.0139e-01, -7.2153e-01,\n",
            "        -3.4005e-01, -2.7440e-01, -4.7575e-01, -2.9268e-01, -2.6252e-01,\n",
            "        -1.0718e-01, -3.6646e-01, -3.3619e-01, -4.0367e-01,  4.2985e-01,\n",
            "        -3.6346e-01, -5.9180e-01, -5.5348e-01, -2.9401e-01,  1.4497e-01,\n",
            "        -1.0830e-01, -4.3415e-01, -2.9079e-01, -5.4676e-01, -4.1304e-01,\n",
            "        -2.0296e-01, -5.0845e-01, -5.3976e-01, -5.5158e-01, -6.6366e-01,\n",
            "        -4.8847e-01, -6.2238e-01, -2.1435e-01, -4.0664e-01, -9.4773e-02,\n",
            "        -2.9292e-01, -1.0336e-01, -1.3024e-01, -4.0772e-01, -3.3737e-01,\n",
            "        -3.4348e-01,  1.0505e-01, -2.2923e-01, -3.5306e-01, -2.1477e-01,\n",
            "        -2.1531e-01, -2.1389e-01, -7.0156e-01, -2.6472e-01, -5.0767e-01,\n",
            "        -4.4944e-01, -2.9940e-01, -2.3739e-01, -3.0495e-01,  1.1128e-01,\n",
            "        -2.8337e-01, -1.8063e-01, -5.3824e-01, -2.7004e-01, -4.0699e-01,\n",
            "        -2.5054e-01, -5.9038e-01, -2.7240e-01, -3.0435e-01, -4.5238e-01,\n",
            "        -2.6577e-01, -1.7210e-01, -1.5926e-01, -4.0658e-01, -1.5146e-01,\n",
            "        -1.0956e-01, -1.0530e-01,  3.4611e-01, -2.1665e-01, -1.4360e-01,\n",
            "        -2.6765e-01, -1.0608e-01, -2.0088e-01,  1.7767e-01, -2.4788e-01,\n",
            "         2.6214e-01, -9.1748e-02, -9.2061e-02,  5.6863e-02,  6.8488e-02,\n",
            "        -1.5195e-02,  1.5927e-01,  7.0076e-02, -7.5277e-02, -2.8204e-01,\n",
            "        -2.0497e-01, -4.7480e-01,  6.3976e-02, -2.0105e-01,  1.2309e-01,\n",
            "         1.8798e-01,  5.7746e-02, -2.6159e-01,  2.1902e-01,  1.3360e-01,\n",
            "         2.9939e-01, -2.7587e-02, -1.8464e-01,  3.0821e-02,  1.2478e-01,\n",
            "        -3.2078e-01, -1.4919e-01, -3.1863e-01,  3.1285e-03, -3.1117e-02,\n",
            "         1.2495e-01, -5.6972e-01, -1.3143e-01, -2.5053e-02,  7.3321e-02,\n",
            "         2.4236e-01,  1.2832e-01,  1.4762e-01,  8.4973e-02, -1.0529e-03,\n",
            "        -6.2410e-02, -7.9601e-02, -7.9090e-02, -2.1112e-01,  5.2110e-03,\n",
            "         6.3645e-02,  2.3242e-01, -1.3425e-01,  1.9449e-01, -1.9811e-02,\n",
            "         5.5494e-02,  1.7036e-01,  1.0378e-02,  1.5080e-01,  1.4488e-01,\n",
            "        -7.7516e-02,  4.9053e-02, -3.5954e-02, -1.0778e-01, -3.3150e-02,\n",
            "         2.1577e-01, -2.8227e-01, -1.8050e-01,  1.1054e-01,  1.7759e-01,\n",
            "         1.8061e-02,  2.4168e-01, -1.1235e-01,  2.5656e-01, -1.0903e-01,\n",
            "         1.3422e-01,  6.9601e-02,  1.3639e-02,  6.5299e-02, -3.6987e-01,\n",
            "        -2.7855e-02,  2.1200e-01, -3.2120e-02,  9.1620e-02, -1.0780e-01,\n",
            "         1.2670e-01, -1.5016e-01, -3.5503e-01, -2.0867e-01,  1.6648e-01,\n",
            "        -1.9040e-02, -2.2229e-01, -9.0483e-02, -6.5026e-02,  1.9777e-01,\n",
            "         3.3427e-01,  1.6871e-01, -8.4884e-02, -8.7492e-02, -3.0032e-01,\n",
            "         4.0003e-02,  1.2615e-01, -2.5430e-02, -2.2405e-01,  4.7151e-01,\n",
            "        -1.3234e-01, -2.5122e-01, -2.6592e-01, -9.2602e-02,  2.8426e-01,\n",
            "         1.2329e-01,  4.1312e-01,  2.8036e-01,  3.1456e-01, -1.0780e-01,\n",
            "         8.4822e-02, -8.2598e-03, -5.9454e-02,  2.6807e-01, -3.7497e-02,\n",
            "        -4.0992e-02,  1.3030e-01,  4.0174e-01,  2.0782e-01])), ('gru.bias_hh_l0', tensor([ 0.2615,  0.0708, -0.0793,  0.2427, -0.0290,  0.0670,  0.0015, -0.1235,\n",
            "        -0.1243, -0.1871,  0.0458, -0.0475,  0.0146, -0.0767,  0.0758, -0.1004,\n",
            "        -0.0142, -0.0078, -0.0078, -0.1201, -0.1633,  0.0147,  0.0156, -0.1572,\n",
            "        -0.0334,  0.0169, -0.0019,  0.2574, -0.0021,  0.1194,  0.0529,  0.0859,\n",
            "         0.0241, -0.2405,  0.0854, -0.0734, -0.1751, -0.2963,  0.0437,  0.0081,\n",
            "        -0.0453,  0.3126, -0.0656, -0.0280,  0.1634,  0.1211, -0.0224,  0.0920,\n",
            "        -0.2817, -0.1073,  0.0571,  0.1439,  0.0237, -0.0292,  0.1105, -0.1195,\n",
            "         0.0599,  0.0755, -0.1216,  0.3377,  0.4408, -0.0557, -0.0517, -0.0218,\n",
            "         0.1837, -0.1040,  0.0181,  0.1281,  0.0206,  0.1711, -0.0158, -0.0238,\n",
            "        -0.2056,  0.0062, -0.0820,  0.3059,  0.1540, -0.0473,  0.0789, -0.2453,\n",
            "         0.0762, -0.1288,  0.1072, -0.0503, -0.0501,  0.1888, -0.4705, -0.1299,\n",
            "         0.1414,  0.1636,  0.0819,  0.1166,  0.0078, -0.1838,  0.0744,  0.0080,\n",
            "         0.0533, -0.1522,  0.1011, -0.0499, -0.1309,  0.0035, -0.1223, -0.1658,\n",
            "         0.1893, -0.0665,  0.0225,  0.0271, -0.0795, -0.0091, -0.1226,  0.1677,\n",
            "         0.1599,  0.0476, -0.0879, -0.1630,  0.0435,  0.2659,  0.0874, -0.0938,\n",
            "         0.2282, -0.1543,  0.1908, -0.1402, -0.0852, -0.0656,  0.0683,  0.1823,\n",
            "        -0.0073, -0.1379, -0.0498, -0.4825, -0.6205, -0.3466, -0.2147, -0.1878,\n",
            "        -0.1935, -0.4294, -0.1872, -0.3167, -0.4728, -0.2641, -0.3807, -0.2374,\n",
            "         0.0438, -0.2704, -0.4135, -0.0993, -0.1400, -0.4467, -0.6969, -0.5762,\n",
            "        -0.5559, -0.2173, -0.6603, -0.3506, -0.3087, -0.2862, -0.2036, -0.6036,\n",
            "        -0.3012, -0.3621, -0.4794, -0.6629,  0.0027, -0.5836, -0.3464, -0.4373,\n",
            "        -0.3378, -0.2181, -0.3989, -0.1995, -0.2920, -0.2059,  0.0665,  0.0128,\n",
            "        -0.2286, -0.4902, -0.1815, -0.4061, -0.1374, -0.3039, -0.3808, -0.1539,\n",
            "        -0.5166, -0.1362, -0.2800, -0.3554, -0.2744, -0.7249, -0.3065, -0.2735,\n",
            "        -0.4851, -0.3419, -0.2951, -0.1841, -0.3525, -0.3817, -0.4146,  0.4593,\n",
            "        -0.2870, -0.5591, -0.5832, -0.3190,  0.0823, -0.1234, -0.5153, -0.3374,\n",
            "        -0.4618, -0.4087, -0.0987, -0.4880, -0.5571, -0.5067, -0.6650, -0.5686,\n",
            "        -0.5788, -0.2495, -0.4709, -0.0578, -0.3757, -0.0764, -0.2176, -0.4559,\n",
            "        -0.3240, -0.4215,  0.1401, -0.2795, -0.4138, -0.1978, -0.1516, -0.1872,\n",
            "        -0.7437, -0.2578, -0.4970, -0.5393, -0.2259, -0.1962, -0.2149,  0.1506,\n",
            "        -0.2413, -0.1083, -0.5969, -0.2768, -0.4065, -0.1556, -0.4936, -0.2693,\n",
            "        -0.2034, -0.5360, -0.2697, -0.3023, -0.2285, -0.3480, -0.0926, -0.0129,\n",
            "         0.2387, -0.1951, -0.0100,  0.3547,  0.3523, -0.1706,  0.1280,  0.1493,\n",
            "         0.3380, -0.1628,  0.2716,  0.2261, -0.3108,  0.2008,  0.1437,  0.0716,\n",
            "        -0.1886,  0.1103,  0.4302,  0.2161,  0.3402, -0.2492,  0.1172, -0.0187,\n",
            "         0.1390,  0.2125, -0.1118,  0.1884, -0.2014, -0.3509,  0.3708,  0.3324,\n",
            "        -0.2343, -0.4095,  0.3684, -0.1064,  0.2442, -0.1006,  0.2947,  0.0632,\n",
            "         0.3268, -0.3410, -0.2675,  0.1315, -0.3963, -0.2533, -0.2747,  0.1332,\n",
            "         0.3081, -0.0499, -0.2318,  0.2836, -0.2510,  0.2046, -0.2945,  0.0092,\n",
            "         0.3051, -0.1913, -0.1308, -0.0570,  0.1796, -0.0768, -0.2599, -0.2497,\n",
            "        -0.1935, -0.1556, -0.2843,  0.0089, -0.3297,  0.0762,  0.2399, -0.5180,\n",
            "         0.0023, -0.2814,  0.2156,  0.2597,  0.2697, -0.3350,  0.2650, -0.0582,\n",
            "        -0.3493,  0.3100, -0.1554,  0.2720,  0.0471, -0.3361,  0.1709, -0.3162,\n",
            "        -0.2696, -0.2372,  0.2411,  0.4409,  0.1811, -0.0668, -0.1983, -0.2808,\n",
            "        -0.2038, -0.1981, -0.3566, -0.2082,  0.0512, -0.2213,  0.1483,  0.1349,\n",
            "        -0.0778, -0.3720,  0.1794,  0.3438, -0.2334,  0.0354,  0.1999,  0.3224,\n",
            "         0.3150, -0.3879, -0.0449, -0.3223, -0.1912,  0.1076,  0.3542, -0.1956,\n",
            "         0.2847, -0.3217, -0.7646,  0.2339, -0.1072, -0.4539, -0.1521, -0.3513])), ('fc.weight', tensor([[-1.2834,  0.7449,  0.7127,  ...,  0.3803,  0.0978,  2.2350],\n",
            "        [ 0.4161, -0.1671, -1.8684,  ..., -0.3074,  0.0425, -1.4645],\n",
            "        [-1.3043,  0.7146,  0.6669,  ...,  0.4319,  0.0457,  2.2122],\n",
            "        ...,\n",
            "        [-0.9769, -0.8741,  0.4091,  ..., -0.7147,  1.9240,  1.3338],\n",
            "        [-1.3021,  0.7318,  0.6981,  ...,  0.4113,  0.0826,  2.2491],\n",
            "        [-0.2353,  0.2789,  0.5531,  ...,  0.5448, -0.2792,  2.7019]])), ('fc.bias', tensor([-3.0650e+00, -3.7850e-01, -3.0886e+00, -3.0326e+00, -7.4031e-01,\n",
            "        -5.6717e-01, -1.3279e-01, -3.0996e+00, -1.1074e+00,  4.4206e-01,\n",
            "        -7.1113e-01, -7.7774e-01, -9.0964e-01, -4.7159e-02, -3.7683e-02,\n",
            "        -2.9276e-01, -3.8390e-01, -7.5066e-01, -6.8250e-01, -1.2570e+00,\n",
            "        -8.1849e-01, -3.6161e-01, -5.1983e-01, -3.0308e+00, -3.1738e+00,\n",
            "        -1.0985e+00, -4.7461e-01, -3.1386e+00, -3.0190e+00, -3.0485e+00,\n",
            "        -3.1303e+00, -6.7610e-01, -6.7125e-01, -3.0574e+00, -5.2487e-02,\n",
            "         5.5527e-01, -7.6126e-04,  1.1346e-01, -2.5157e-01, -2.0608e-01,\n",
            "        -9.1686e-02,  8.6014e-02,  1.2700e-01, -4.6255e-01,  2.4848e-01,\n",
            "        -4.9825e-03, -8.7720e-02, -1.0706e-01,  1.0859e-01,  5.2020e-01,\n",
            "         3.3223e-01,  1.6702e-01,  1.5787e-01,  1.6436e-01, -3.2472e-01,\n",
            "         4.4042e-01, -1.2153e-01, -2.4305e-01,  2.9687e-01, -9.8110e-02,\n",
            "        -2.9730e+00, -9.4197e-01]))]), {'\\n': 0, ' ': 1, '!': 2, '&': 3, \"'\": 4, '(': 5, ')': 6, '*': 7, '+': 8, '-': 9, '.': 10, '/': 11, '0': 12, '1': 13, '2': 14, '3': 15, '4': 16, '5': 17, '6': 18, '7': 19, '8': 20, '9': 21, ':': 22, ';': 23, '<': 24, '=': 25, '?': 26, '@': 27, '[': 28, '\\\\': 29, ']': 30, '^': 31, '_': 32, '`': 33, 'a': 34, 'b': 35, 'c': 36, 'd': 37, 'e': 38, 'f': 39, 'g': 40, 'h': 41, 'i': 42, 'j': 43, 'k': 44, 'l': 45, 'm': 46, 'n': 47, 'o': 48, 'p': 49, 'q': 50, 'r': 51, 's': 52, 't': 53, 'u': 54, 'v': 55, 'w': 56, 'x': 57, 'y': 58, 'z': 59, '|': 60, '~': 61}]\n",
            "Loaded pre-trained model\n"
          ]
        }
      ]
    },
    {
      "cell_type": "code",
      "execution_count": null,
      "metadata": {
        "colab": {
          "background_save": true,
          "base_uri": "https://localhost:8080/"
        },
        "id": "8xca3q-TOODl",
        "outputId": "0b9765ae-3836-48f9-a9c8-215c02eab9e5"
      },
      "outputs": [
        {
          "name": "stdout",
          "output_type": "stream",
          "text": [
            "max leng 70\n"
          ]
        },
        {
          "name": "stderr",
          "output_type": "stream",
          "text": [
            "  1%|          | 1/100 [01:25<2:20:42, 85.28s/it]"
          ]
        },
        {
          "name": "stdout",
          "output_type": "stream",
          "text": [
            "Epoch 1: Train Loss: 2.7461, Test Loss: 2.4225\n"
          ]
        },
        {
          "name": "stderr",
          "output_type": "stream",
          "text": [
            "\r  2%|▏         | 2/100 [02:55<2:24:08, 88.25s/it]"
          ]
        },
        {
          "name": "stdout",
          "output_type": "stream",
          "text": [
            "Epoch 2: Train Loss: 2.2935, Test Loss: 2.1983\n"
          ]
        },
        {
          "name": "stderr",
          "output_type": "stream",
          "text": [
            "\r  3%|▎         | 3/100 [04:31<2:28:26, 91.82s/it]"
          ]
        },
        {
          "name": "stdout",
          "output_type": "stream",
          "text": [
            "Epoch 3: Train Loss: 2.0750, Test Loss: 2.0126\n"
          ]
        },
        {
          "name": "stderr",
          "output_type": "stream",
          "text": [
            "\r  4%|▍         | 4/100 [06:09<2:30:36, 94.13s/it]"
          ]
        },
        {
          "name": "stdout",
          "output_type": "stream",
          "text": [
            "Epoch 4: Train Loss: 1.8862, Test Loss: 1.8558\n"
          ]
        },
        {
          "name": "stderr",
          "output_type": "stream",
          "text": [
            "\r  5%|▌         | 5/100 [07:42<2:28:21, 93.70s/it]"
          ]
        },
        {
          "name": "stdout",
          "output_type": "stream",
          "text": [
            "Epoch 5: Train Loss: 1.7197, Test Loss: 1.7228\n"
          ]
        },
        {
          "name": "stderr",
          "output_type": "stream",
          "text": [
            "\r  6%|▌         | 6/100 [09:15<2:26:20, 93.41s/it]"
          ]
        },
        {
          "name": "stdout",
          "output_type": "stream",
          "text": [
            "Epoch 6: Train Loss: 1.5776, Test Loss: 1.6315\n"
          ]
        },
        {
          "name": "stderr",
          "output_type": "stream",
          "text": [
            "\r  7%|▋         | 7/100 [10:41<2:21:12, 91.10s/it]"
          ]
        },
        {
          "name": "stdout",
          "output_type": "stream",
          "text": [
            "Epoch 7: Train Loss: 1.4580, Test Loss: 1.5332\n"
          ]
        },
        {
          "name": "stderr",
          "output_type": "stream",
          "text": [
            "\r  8%|▊         | 8/100 [12:05<2:16:04, 88.75s/it]"
          ]
        },
        {
          "name": "stdout",
          "output_type": "stream",
          "text": [
            "Epoch 8: Train Loss: 1.3544, Test Loss: 1.4735\n"
          ]
        },
        {
          "name": "stderr",
          "output_type": "stream",
          "text": [
            "\r  9%|▉         | 9/100 [13:31<2:13:31, 88.04s/it]"
          ]
        },
        {
          "name": "stdout",
          "output_type": "stream",
          "text": [
            "Epoch 9: Train Loss: 1.2629, Test Loss: 1.4072\n"
          ]
        },
        {
          "name": "stderr",
          "output_type": "stream",
          "text": [
            "\r 10%|█         | 10/100 [14:57<2:11:09, 87.44s/it]"
          ]
        },
        {
          "name": "stdout",
          "output_type": "stream",
          "text": [
            "Epoch 10: Train Loss: 1.1772, Test Loss: 1.3597\n"
          ]
        },
        {
          "name": "stderr",
          "output_type": "stream",
          "text": [
            "\r 11%|█         | 11/100 [16:22<2:08:26, 86.59s/it]"
          ]
        },
        {
          "name": "stdout",
          "output_type": "stream",
          "text": [
            "Epoch 11: Train Loss: 1.1005, Test Loss: 1.3069\n"
          ]
        },
        {
          "name": "stderr",
          "output_type": "stream",
          "text": [
            "\r 12%|█▏        | 12/100 [17:48<2:06:50, 86.48s/it]"
          ]
        },
        {
          "name": "stdout",
          "output_type": "stream",
          "text": [
            "Epoch 12: Train Loss: 1.0293, Test Loss: 1.2683\n"
          ]
        },
        {
          "name": "stderr",
          "output_type": "stream",
          "text": [
            "\r 13%|█▎        | 13/100 [19:14<2:04:53, 86.14s/it]"
          ]
        },
        {
          "name": "stdout",
          "output_type": "stream",
          "text": [
            "Epoch 13: Train Loss: 0.9660, Test Loss: 1.2262\n"
          ]
        },
        {
          "name": "stderr",
          "output_type": "stream",
          "text": [
            "\r 14%|█▍        | 14/100 [20:38<2:02:48, 85.68s/it]"
          ]
        },
        {
          "name": "stdout",
          "output_type": "stream",
          "text": [
            "Epoch 14: Train Loss: 0.9084, Test Loss: 1.2007\n"
          ]
        },
        {
          "name": "stderr",
          "output_type": "stream",
          "text": [
            "\r 15%|█▌        | 15/100 [22:04<2:01:15, 85.59s/it]"
          ]
        },
        {
          "name": "stdout",
          "output_type": "stream",
          "text": [
            "Epoch 15: Train Loss: 0.8568, Test Loss: 1.1717\n"
          ]
        },
        {
          "name": "stderr",
          "output_type": "stream",
          "text": [
            "\r 16%|█▌        | 16/100 [23:28<1:59:22, 85.26s/it]"
          ]
        },
        {
          "name": "stdout",
          "output_type": "stream",
          "text": [
            "Epoch 16: Train Loss: 0.8122, Test Loss: 1.1490\n"
          ]
        },
        {
          "name": "stderr",
          "output_type": "stream",
          "text": [
            "\r 17%|█▋        | 17/100 [24:54<1:58:21, 85.55s/it]"
          ]
        },
        {
          "name": "stdout",
          "output_type": "stream",
          "text": [
            "Epoch 17: Train Loss: 0.7734, Test Loss: 1.1261\n"
          ]
        },
        {
          "name": "stderr",
          "output_type": "stream",
          "text": [
            "\r 18%|█▊        | 18/100 [26:20<1:56:47, 85.46s/it]"
          ]
        },
        {
          "name": "stdout",
          "output_type": "stream",
          "text": [
            "Epoch 18: Train Loss: 0.7376, Test Loss: 1.1091\n"
          ]
        },
        {
          "name": "stderr",
          "output_type": "stream",
          "text": [
            "\r 19%|█▉        | 19/100 [27:44<1:54:54, 85.11s/it]"
          ]
        },
        {
          "name": "stdout",
          "output_type": "stream",
          "text": [
            "Epoch 19: Train Loss: 0.7049, Test Loss: 1.0924\n"
          ]
        },
        {
          "name": "stderr",
          "output_type": "stream",
          "text": [
            "\r 20%|██        | 20/100 [29:06<1:52:24, 84.30s/it]"
          ]
        },
        {
          "name": "stdout",
          "output_type": "stream",
          "text": [
            "Epoch 20: Train Loss: 0.6783, Test Loss: 1.0806\n"
          ]
        },
        {
          "name": "stderr",
          "output_type": "stream",
          "text": [
            "\r 21%|██        | 21/100 [30:30<1:50:48, 84.16s/it]"
          ]
        },
        {
          "name": "stdout",
          "output_type": "stream",
          "text": [
            "Epoch 21: Train Loss: 0.6533, Test Loss: 1.0611\n"
          ]
        },
        {
          "name": "stderr",
          "output_type": "stream",
          "text": [
            "\r 22%|██▏       | 22/100 [31:56<1:50:04, 84.68s/it]"
          ]
        },
        {
          "name": "stdout",
          "output_type": "stream",
          "text": [
            "Epoch 22: Train Loss: 0.6314, Test Loss: 1.0503\n"
          ]
        },
        {
          "name": "stderr",
          "output_type": "stream",
          "text": [
            "\r 23%|██▎       | 23/100 [33:29<1:51:55, 87.21s/it]"
          ]
        },
        {
          "name": "stdout",
          "output_type": "stream",
          "text": [
            "Epoch 23: Train Loss: 0.6095, Test Loss: 1.0357\n"
          ]
        },
        {
          "name": "stderr",
          "output_type": "stream",
          "text": [
            "\r 24%|██▍       | 24/100 [34:51<1:48:30, 85.66s/it]"
          ]
        },
        {
          "name": "stdout",
          "output_type": "stream",
          "text": [
            "Epoch 24: Train Loss: 0.5931, Test Loss: 1.0284\n"
          ]
        },
        {
          "name": "stderr",
          "output_type": "stream",
          "text": [
            "\r 25%|██▌       | 25/100 [36:15<1:46:33, 85.24s/it]"
          ]
        },
        {
          "name": "stdout",
          "output_type": "stream",
          "text": [
            "Epoch 25: Train Loss: 0.5691, Test Loss: 1.0355\n"
          ]
        },
        {
          "name": "stderr",
          "output_type": "stream",
          "text": [
            "\r 26%|██▌       | 26/100 [37:41<1:45:21, 85.43s/it]"
          ]
        },
        {
          "name": "stdout",
          "output_type": "stream",
          "text": [
            "Epoch 26: Train Loss: 0.5593, Test Loss: 1.0228\n"
          ]
        },
        {
          "name": "stderr",
          "output_type": "stream",
          "text": [
            "\r 27%|██▋       | 27/100 [39:06<1:43:32, 85.10s/it]"
          ]
        },
        {
          "name": "stdout",
          "output_type": "stream",
          "text": [
            "Epoch 27: Train Loss: 0.5468, Test Loss: 1.0131\n"
          ]
        },
        {
          "name": "stderr",
          "output_type": "stream",
          "text": [
            "\r 28%|██▊       | 28/100 [40:32<1:42:43, 85.60s/it]"
          ]
        },
        {
          "name": "stdout",
          "output_type": "stream",
          "text": [
            "Epoch 28: Train Loss: 0.5255, Test Loss: 0.9979\n"
          ]
        },
        {
          "name": "stderr",
          "output_type": "stream",
          "text": [
            "\r 29%|██▉       | 29/100 [41:58<1:41:11, 85.51s/it]"
          ]
        },
        {
          "name": "stdout",
          "output_type": "stream",
          "text": [
            "Epoch 29: Train Loss: 0.5174, Test Loss: 1.0073\n"
          ]
        },
        {
          "name": "stderr",
          "output_type": "stream",
          "text": [
            "\r 30%|███       | 30/100 [43:25<1:40:21, 86.02s/it]"
          ]
        },
        {
          "name": "stdout",
          "output_type": "stream",
          "text": [
            "Epoch 30: Train Loss: 0.5034, Test Loss: 0.9859\n"
          ]
        },
        {
          "name": "stderr",
          "output_type": "stream",
          "text": [
            "\r 31%|███       | 31/100 [44:47<1:37:43, 84.98s/it]"
          ]
        },
        {
          "name": "stdout",
          "output_type": "stream",
          "text": [
            "Epoch 31: Train Loss: 0.4924, Test Loss: 0.9790\n"
          ]
        },
        {
          "name": "stderr",
          "output_type": "stream",
          "text": [
            "\r 32%|███▏      | 32/100 [46:10<1:35:28, 84.24s/it]"
          ]
        },
        {
          "name": "stdout",
          "output_type": "stream",
          "text": [
            "Epoch 32: Train Loss: 0.4776, Test Loss: 0.9724\n"
          ]
        },
        {
          "name": "stderr",
          "output_type": "stream",
          "text": [
            "\r 33%|███▎      | 33/100 [47:33<1:33:34, 83.80s/it]"
          ]
        },
        {
          "name": "stdout",
          "output_type": "stream",
          "text": [
            "Epoch 33: Train Loss: 0.4671, Test Loss: 0.9828\n"
          ]
        },
        {
          "name": "stderr",
          "output_type": "stream",
          "text": [
            "\r 34%|███▍      | 34/100 [48:58<1:32:36, 84.19s/it]"
          ]
        },
        {
          "name": "stdout",
          "output_type": "stream",
          "text": [
            "Epoch 34: Train Loss: 0.4582, Test Loss: 0.9685\n"
          ]
        },
        {
          "name": "stderr",
          "output_type": "stream",
          "text": [
            "\r 35%|███▌      | 35/100 [50:20<1:30:36, 83.64s/it]"
          ]
        },
        {
          "name": "stdout",
          "output_type": "stream",
          "text": [
            "Epoch 35: Train Loss: 0.4464, Test Loss: 0.9734\n"
          ]
        },
        {
          "name": "stderr",
          "output_type": "stream",
          "text": [
            "\r 36%|███▌      | 36/100 [51:42<1:28:42, 83.17s/it]"
          ]
        },
        {
          "name": "stdout",
          "output_type": "stream",
          "text": [
            "Epoch 36: Train Loss: 0.4387, Test Loss: 0.9560\n"
          ]
        },
        {
          "name": "stderr",
          "output_type": "stream",
          "text": [
            "\r 37%|███▋      | 37/100 [53:10<1:28:48, 84.57s/it]"
          ]
        },
        {
          "name": "stdout",
          "output_type": "stream",
          "text": [
            "Epoch 37: Train Loss: 0.4326, Test Loss: 0.9723\n"
          ]
        },
        {
          "name": "stderr",
          "output_type": "stream",
          "text": [
            "\r 38%|███▊      | 38/100 [54:35<1:27:30, 84.68s/it]"
          ]
        },
        {
          "name": "stdout",
          "output_type": "stream",
          "text": [
            "Epoch 38: Train Loss: 0.4353, Test Loss: 0.9466\n"
          ]
        },
        {
          "name": "stderr",
          "output_type": "stream",
          "text": [
            "\r 39%|███▉      | 39/100 [56:00<1:26:03, 84.65s/it]"
          ]
        },
        {
          "name": "stdout",
          "output_type": "stream",
          "text": [
            "Epoch 39: Train Loss: 0.4168, Test Loss: 0.9485\n"
          ]
        },
        {
          "name": "stderr",
          "output_type": "stream",
          "text": [
            "\r 40%|████      | 40/100 [57:26<1:25:04, 85.07s/it]"
          ]
        },
        {
          "name": "stdout",
          "output_type": "stream",
          "text": [
            "Epoch 40: Train Loss: 0.4092, Test Loss: 0.9511\n"
          ]
        },
        {
          "name": "stderr",
          "output_type": "stream",
          "text": [
            "\r 41%|████      | 41/100 [58:49<1:23:07, 84.54s/it]"
          ]
        },
        {
          "name": "stdout",
          "output_type": "stream",
          "text": [
            "Epoch 41: Train Loss: 0.4007, Test Loss: 0.9550\n"
          ]
        },
        {
          "name": "stderr",
          "output_type": "stream",
          "text": [
            "\r 42%|████▏     | 42/100 [1:00:11<1:21:02, 83.84s/it]"
          ]
        },
        {
          "name": "stdout",
          "output_type": "stream",
          "text": [
            "Epoch 42: Train Loss: 0.4022, Test Loss: 0.9732\n"
          ]
        },
        {
          "name": "stderr",
          "output_type": "stream",
          "text": [
            "\r 43%|████▎     | 43/100 [1:01:34<1:19:29, 83.68s/it]"
          ]
        },
        {
          "name": "stdout",
          "output_type": "stream",
          "text": [
            "Epoch 43: Train Loss: 0.4031, Test Loss: 0.9512\n"
          ]
        },
        {
          "name": "stderr",
          "output_type": "stream",
          "text": [
            "\r 44%|████▍     | 44/100 [1:02:58<1:18:07, 83.71s/it]"
          ]
        },
        {
          "name": "stdout",
          "output_type": "stream",
          "text": [
            "Epoch 44: Train Loss: 0.3826, Test Loss: 0.9446\n"
          ]
        },
        {
          "name": "stderr",
          "output_type": "stream",
          "text": [
            "\r 45%|████▌     | 45/100 [1:04:21<1:16:25, 83.37s/it]"
          ]
        },
        {
          "name": "stdout",
          "output_type": "stream",
          "text": [
            "Epoch 45: Train Loss: 0.3764, Test Loss: 0.9503\n"
          ]
        },
        {
          "name": "stderr",
          "output_type": "stream",
          "text": [
            "\r 46%|████▌     | 46/100 [1:05:44<1:15:04, 83.42s/it]"
          ]
        },
        {
          "name": "stdout",
          "output_type": "stream",
          "text": [
            "Epoch 46: Train Loss: 0.3710, Test Loss: 0.9538\n"
          ]
        },
        {
          "name": "stderr",
          "output_type": "stream",
          "text": [
            "\r 47%|████▋     | 47/100 [1:07:07<1:13:37, 83.35s/it]"
          ]
        },
        {
          "name": "stdout",
          "output_type": "stream",
          "text": [
            "Epoch 47: Train Loss: 0.3797, Test Loss: 0.9401\n"
          ]
        },
        {
          "name": "stderr",
          "output_type": "stream",
          "text": [
            "\r 48%|████▊     | 48/100 [1:08:32<1:12:35, 83.76s/it]"
          ]
        },
        {
          "name": "stdout",
          "output_type": "stream",
          "text": [
            "Epoch 48: Train Loss: 0.3582, Test Loss: 0.9249\n"
          ]
        },
        {
          "name": "stderr",
          "output_type": "stream",
          "text": [
            "\r 49%|████▉     | 49/100 [1:09:55<1:10:59, 83.52s/it]"
          ]
        },
        {
          "name": "stdout",
          "output_type": "stream",
          "text": [
            "Epoch 49: Train Loss: 0.3654, Test Loss: 0.9281\n"
          ]
        },
        {
          "name": "stderr",
          "output_type": "stream",
          "text": [
            "\r 50%|█████     | 50/100 [1:11:19<1:09:44, 83.68s/it]"
          ]
        },
        {
          "name": "stdout",
          "output_type": "stream",
          "text": [
            "Epoch 50: Train Loss: 0.3580, Test Loss: 0.9315\n"
          ]
        },
        {
          "name": "stderr",
          "output_type": "stream",
          "text": [
            "\r 51%|█████     | 51/100 [1:12:45<1:08:55, 84.40s/it]"
          ]
        },
        {
          "name": "stdout",
          "output_type": "stream",
          "text": [
            "Epoch 51: Train Loss: 0.3493, Test Loss: 0.9503\n"
          ]
        },
        {
          "name": "stderr",
          "output_type": "stream",
          "text": [
            "\r 52%|█████▏    | 52/100 [1:14:10<1:07:30, 84.38s/it]"
          ]
        },
        {
          "name": "stdout",
          "output_type": "stream",
          "text": [
            "Epoch 52: Train Loss: 0.3454, Test Loss: 0.9308\n"
          ]
        },
        {
          "name": "stderr",
          "output_type": "stream",
          "text": [
            "\r 53%|█████▎    | 53/100 [1:15:37<1:06:42, 85.15s/it]"
          ]
        },
        {
          "name": "stdout",
          "output_type": "stream",
          "text": [
            "Epoch 53: Train Loss: 0.3338, Test Loss: 0.9394\n"
          ]
        },
        {
          "name": "stderr",
          "output_type": "stream",
          "text": [
            "\r 54%|█████▍    | 54/100 [1:17:03<1:05:39, 85.64s/it]"
          ]
        },
        {
          "name": "stdout",
          "output_type": "stream",
          "text": [
            "Epoch 54: Train Loss: 0.3377, Test Loss: 0.9824\n"
          ]
        },
        {
          "name": "stderr",
          "output_type": "stream",
          "text": [
            "\r 55%|█████▌    | 55/100 [1:18:29<1:04:15, 85.67s/it]"
          ]
        },
        {
          "name": "stdout",
          "output_type": "stream",
          "text": [
            "Epoch 55: Train Loss: 0.3373, Test Loss: 0.9284\n"
          ]
        },
        {
          "name": "stderr",
          "output_type": "stream",
          "text": [
            "\r 56%|█████▌    | 56/100 [1:19:57<1:03:14, 86.24s/it]"
          ]
        },
        {
          "name": "stdout",
          "output_type": "stream",
          "text": [
            "Epoch 56: Train Loss: 0.3240, Test Loss: 0.9181\n"
          ]
        },
        {
          "name": "stderr",
          "output_type": "stream",
          "text": [
            "\r 57%|█████▋    | 57/100 [1:21:25<1:02:10, 86.75s/it]"
          ]
        },
        {
          "name": "stdout",
          "output_type": "stream",
          "text": [
            "Epoch 57: Train Loss: 0.3228, Test Loss: 0.9407\n"
          ]
        },
        {
          "name": "stderr",
          "output_type": "stream",
          "text": [
            "\r 58%|█████▊    | 58/100 [1:22:52<1:00:47, 86.86s/it]"
          ]
        },
        {
          "name": "stdout",
          "output_type": "stream",
          "text": [
            "Epoch 58: Train Loss: 0.3195, Test Loss: 0.9169\n"
          ]
        },
        {
          "name": "stderr",
          "output_type": "stream",
          "text": [
            "\r 59%|█████▉    | 59/100 [1:24:16<58:53, 86.19s/it]  "
          ]
        },
        {
          "name": "stdout",
          "output_type": "stream",
          "text": [
            "Epoch 59: Train Loss: 0.3104, Test Loss: 0.9184\n"
          ]
        },
        {
          "name": "stderr",
          "output_type": "stream",
          "text": [
            "\r 60%|██████    | 60/100 [1:25:44<57:44, 86.61s/it]"
          ]
        },
        {
          "name": "stdout",
          "output_type": "stream",
          "text": [
            "Epoch 60: Train Loss: 0.3117, Test Loss: 0.9134\n"
          ]
        },
        {
          "name": "stderr",
          "output_type": "stream",
          "text": [
            "\r 61%|██████    | 61/100 [1:27:09<56:01, 86.19s/it]"
          ]
        },
        {
          "name": "stdout",
          "output_type": "stream",
          "text": [
            "Epoch 61: Train Loss: 0.3072, Test Loss: 0.9331\n"
          ]
        },
        {
          "name": "stderr",
          "output_type": "stream",
          "text": [
            "\r 62%|██████▏   | 62/100 [1:28:36<54:39, 86.31s/it]"
          ]
        },
        {
          "name": "stdout",
          "output_type": "stream",
          "text": [
            "Epoch 62: Train Loss: 0.3074, Test Loss: 0.9421\n"
          ]
        },
        {
          "name": "stderr",
          "output_type": "stream",
          "text": [
            "\r 63%|██████▎   | 63/100 [1:30:03<53:21, 86.52s/it]"
          ]
        },
        {
          "name": "stdout",
          "output_type": "stream",
          "text": [
            "Epoch 63: Train Loss: 0.3036, Test Loss: 0.9024\n"
          ]
        },
        {
          "name": "stderr",
          "output_type": "stream",
          "text": [
            "\r 64%|██████▍   | 64/100 [1:31:30<52:00, 86.69s/it]"
          ]
        },
        {
          "name": "stdout",
          "output_type": "stream",
          "text": [
            "Epoch 64: Train Loss: 0.2915, Test Loss: 0.9163\n"
          ]
        },
        {
          "name": "stderr",
          "output_type": "stream",
          "text": [
            "\r 65%|██████▌   | 65/100 [1:32:55<50:22, 86.36s/it]"
          ]
        },
        {
          "name": "stdout",
          "output_type": "stream",
          "text": [
            "Epoch 65: Train Loss: 0.2871, Test Loss: 0.9251\n"
          ]
        },
        {
          "name": "stderr",
          "output_type": "stream",
          "text": [
            "\r 66%|██████▌   | 66/100 [1:34:23<49:06, 86.65s/it]"
          ]
        },
        {
          "name": "stdout",
          "output_type": "stream",
          "text": [
            "Epoch 66: Train Loss: 0.3117, Test Loss: 0.9185\n"
          ]
        },
        {
          "name": "stderr",
          "output_type": "stream",
          "text": [
            "\r 67%|██████▋   | 67/100 [1:35:47<47:18, 86.02s/it]"
          ]
        },
        {
          "name": "stdout",
          "output_type": "stream",
          "text": [
            "Epoch 67: Train Loss: 0.2819, Test Loss: 0.9051\n"
          ]
        },
        {
          "name": "stderr",
          "output_type": "stream",
          "text": [
            "\r 68%|██████▊   | 68/100 [1:37:11<45:34, 85.45s/it]"
          ]
        },
        {
          "name": "stdout",
          "output_type": "stream",
          "text": [
            "Epoch 68: Train Loss: 0.2863, Test Loss: 0.9390\n"
          ]
        },
        {
          "name": "stderr",
          "output_type": "stream",
          "text": [
            "\r 69%|██████▉   | 69/100 [1:38:36<44:04, 85.31s/it]"
          ]
        },
        {
          "name": "stdout",
          "output_type": "stream",
          "text": [
            "Epoch 69: Train Loss: 0.2920, Test Loss: 0.9177\n"
          ]
        },
        {
          "name": "stderr",
          "output_type": "stream",
          "text": [
            "\r 70%|███████   | 70/100 [1:40:24<46:00, 92.02s/it]"
          ]
        },
        {
          "name": "stdout",
          "output_type": "stream",
          "text": [
            "Epoch 70: Train Loss: 0.2787, Test Loss: 0.9247\n"
          ]
        },
        {
          "name": "stderr",
          "output_type": "stream",
          "text": [
            "\r 71%|███████   | 71/100 [1:42:02<45:18, 93.75s/it]"
          ]
        },
        {
          "name": "stdout",
          "output_type": "stream",
          "text": [
            "Epoch 71: Train Loss: 0.2641, Test Loss: 0.9253\n"
          ]
        },
        {
          "name": "stderr",
          "output_type": "stream",
          "text": [
            "\r 72%|███████▏  | 72/100 [1:43:28<42:41, 91.49s/it]"
          ]
        },
        {
          "name": "stdout",
          "output_type": "stream",
          "text": [
            "Epoch 72: Train Loss: 0.2703, Test Loss: 0.9451\n"
          ]
        },
        {
          "name": "stderr",
          "output_type": "stream",
          "text": [
            "\r 73%|███████▎  | 73/100 [1:44:54<40:21, 89.68s/it]"
          ]
        },
        {
          "name": "stdout",
          "output_type": "stream",
          "text": [
            "Epoch 73: Train Loss: 0.2837, Test Loss: 0.9306\n"
          ]
        },
        {
          "name": "stderr",
          "output_type": "stream",
          "text": [
            "\r 74%|███████▍  | 74/100 [1:46:22<38:40, 89.24s/it]"
          ]
        },
        {
          "name": "stdout",
          "output_type": "stream",
          "text": [
            "Epoch 74: Train Loss: 0.2607, Test Loss: 0.9295\n"
          ]
        },
        {
          "name": "stderr",
          "output_type": "stream",
          "text": [
            "\r 75%|███████▌  | 75/100 [1:47:46<36:30, 87.63s/it]"
          ]
        },
        {
          "name": "stdout",
          "output_type": "stream",
          "text": [
            "Epoch 75: Train Loss: 0.2586, Test Loss: 0.9318\n"
          ]
        },
        {
          "name": "stderr",
          "output_type": "stream",
          "text": [
            "\r 76%|███████▌  | 76/100 [1:49:18<35:37, 89.07s/it]"
          ]
        },
        {
          "name": "stdout",
          "output_type": "stream",
          "text": [
            "Epoch 76: Train Loss: 0.2676, Test Loss: 0.9303\n"
          ]
        },
        {
          "name": "stderr",
          "output_type": "stream",
          "text": [
            "\r 77%|███████▋  | 77/100 [1:50:55<35:00, 91.34s/it]"
          ]
        },
        {
          "name": "stdout",
          "output_type": "stream",
          "text": [
            "Epoch 77: Train Loss: 0.2637, Test Loss: 0.9305\n"
          ]
        },
        {
          "name": "stderr",
          "output_type": "stream",
          "text": [
            "\r 78%|███████▊  | 78/100 [1:52:33<34:15, 93.42s/it]"
          ]
        },
        {
          "name": "stdout",
          "output_type": "stream",
          "text": [
            "Epoch 78: Train Loss: 0.2645, Test Loss: 0.9222\n"
          ]
        },
        {
          "name": "stderr",
          "output_type": "stream",
          "text": [
            "\r 79%|███████▉  | 79/100 [1:54:10<33:06, 94.58s/it]"
          ]
        },
        {
          "name": "stdout",
          "output_type": "stream",
          "text": [
            "Epoch 79: Train Loss: 0.2560, Test Loss: 0.9323\n"
          ]
        },
        {
          "name": "stderr",
          "output_type": "stream",
          "text": [
            "\r 80%|████████  | 80/100 [1:55:37<30:42, 92.12s/it]"
          ]
        },
        {
          "name": "stdout",
          "output_type": "stream",
          "text": [
            "Epoch 80: Train Loss: 0.2565, Test Loss: 0.9422\n"
          ]
        },
        {
          "name": "stderr",
          "output_type": "stream",
          "text": [
            "\r 81%|████████  | 81/100 [1:57:02<28:29, 89.96s/it]"
          ]
        },
        {
          "name": "stdout",
          "output_type": "stream",
          "text": [
            "Epoch 81: Train Loss: 0.2591, Test Loss: 0.9261\n"
          ]
        },
        {
          "name": "stderr",
          "output_type": "stream",
          "text": [
            "\r 82%|████████▏ | 82/100 [1:58:25<26:21, 87.87s/it]"
          ]
        },
        {
          "name": "stdout",
          "output_type": "stream",
          "text": [
            "Epoch 82: Train Loss: 0.2504, Test Loss: 0.9314\n"
          ]
        },
        {
          "name": "stderr",
          "output_type": "stream",
          "text": [
            "\r 83%|████████▎ | 83/100 [1:59:49<24:36, 86.83s/it]"
          ]
        },
        {
          "name": "stdout",
          "output_type": "stream",
          "text": [
            "Epoch 83: Train Loss: 0.2421, Test Loss: 0.8974\n"
          ]
        },
        {
          "name": "stderr",
          "output_type": "stream",
          "text": [
            "\r 84%|████████▍ | 84/100 [2:01:14<23:02, 86.41s/it]"
          ]
        },
        {
          "name": "stdout",
          "output_type": "stream",
          "text": [
            "Epoch 84: Train Loss: 0.2283, Test Loss: 0.9457\n"
          ]
        },
        {
          "name": "stderr",
          "output_type": "stream",
          "text": [
            "\r 85%|████████▌ | 85/100 [2:02:43<21:45, 87.02s/it]"
          ]
        },
        {
          "name": "stdout",
          "output_type": "stream",
          "text": [
            "Epoch 85: Train Loss: 0.2474, Test Loss: 0.9412\n"
          ]
        },
        {
          "name": "stderr",
          "output_type": "stream",
          "text": [
            "\r 86%|████████▌ | 86/100 [2:04:08<20:10, 86.47s/it]"
          ]
        },
        {
          "name": "stdout",
          "output_type": "stream",
          "text": [
            "Epoch 86: Train Loss: 0.2472, Test Loss: 0.9249\n"
          ]
        },
        {
          "name": "stderr",
          "output_type": "stream",
          "text": [
            "\r 87%|████████▋ | 87/100 [2:05:33<18:39, 86.10s/it]"
          ]
        },
        {
          "name": "stdout",
          "output_type": "stream",
          "text": [
            "Epoch 87: Train Loss: 0.2429, Test Loss: 0.9360\n"
          ]
        },
        {
          "name": "stderr",
          "output_type": "stream",
          "text": [
            "\r 88%|████████▊ | 88/100 [2:06:57<17:06, 85.52s/it]"
          ]
        },
        {
          "name": "stdout",
          "output_type": "stream",
          "text": [
            "Epoch 88: Train Loss: 0.2396, Test Loss: 0.9380\n"
          ]
        },
        {
          "name": "stderr",
          "output_type": "stream",
          "text": [
            "\r 89%|████████▉ | 89/100 [2:08:19<15:28, 84.40s/it]"
          ]
        },
        {
          "name": "stdout",
          "output_type": "stream",
          "text": [
            "Epoch 89: Train Loss: 0.2384, Test Loss: 0.9340\n"
          ]
        },
        {
          "name": "stderr",
          "output_type": "stream",
          "text": [
            "\r 90%|█████████ | 90/100 [2:09:44<14:03, 84.37s/it]"
          ]
        },
        {
          "name": "stdout",
          "output_type": "stream",
          "text": [
            "Epoch 90: Train Loss: 0.2256, Test Loss: 0.9373\n"
          ]
        },
        {
          "name": "stderr",
          "output_type": "stream",
          "text": [
            "\r 91%|█████████ | 91/100 [2:11:07<12:36, 84.00s/it]"
          ]
        },
        {
          "name": "stdout",
          "output_type": "stream",
          "text": [
            "Epoch 91: Train Loss: 0.2332, Test Loss: 0.9260\n"
          ]
        },
        {
          "name": "stderr",
          "output_type": "stream",
          "text": [
            "\r 92%|█████████▏| 92/100 [2:12:31<11:12, 84.08s/it]"
          ]
        },
        {
          "name": "stdout",
          "output_type": "stream",
          "text": [
            "Epoch 92: Train Loss: 0.2348, Test Loss: 0.9542\n"
          ]
        },
        {
          "name": "stderr",
          "output_type": "stream",
          "text": [
            "\r 93%|█████████▎| 93/100 [2:13:56<09:50, 84.34s/it]"
          ]
        },
        {
          "name": "stdout",
          "output_type": "stream",
          "text": [
            "Epoch 93: Train Loss: 0.2304, Test Loss: 0.9508\n"
          ]
        },
        {
          "name": "stderr",
          "output_type": "stream",
          "text": [
            "\r 94%|█████████▍| 94/100 [2:15:17<08:20, 83.45s/it]"
          ]
        },
        {
          "name": "stdout",
          "output_type": "stream",
          "text": [
            "Epoch 94: Train Loss: 0.2247, Test Loss: 0.9394\n"
          ]
        },
        {
          "name": "stderr",
          "output_type": "stream",
          "text": [
            "\r 95%|█████████▌| 95/100 [2:16:40<06:56, 83.24s/it]"
          ]
        },
        {
          "name": "stdout",
          "output_type": "stream",
          "text": [
            "Epoch 95: Train Loss: 0.2350, Test Loss: 0.9739\n"
          ]
        },
        {
          "name": "stderr",
          "output_type": "stream",
          "text": [
            "\r 96%|█████████▌| 96/100 [2:18:03<05:32, 83.18s/it]"
          ]
        },
        {
          "name": "stdout",
          "output_type": "stream",
          "text": [
            "Epoch 96: Train Loss: 0.2300, Test Loss: 0.9564\n"
          ]
        },
        {
          "name": "stderr",
          "output_type": "stream",
          "text": [
            "\r 97%|█████████▋| 97/100 [2:19:28<04:11, 83.73s/it]"
          ]
        },
        {
          "name": "stdout",
          "output_type": "stream",
          "text": [
            "Epoch 97: Train Loss: 0.2152, Test Loss: 0.9209\n"
          ]
        },
        {
          "name": "stderr",
          "output_type": "stream",
          "text": [
            "\r 98%|█████████▊| 98/100 [2:20:54<02:49, 84.51s/it]"
          ]
        },
        {
          "name": "stdout",
          "output_type": "stream",
          "text": [
            "Epoch 98: Train Loss: 0.2263, Test Loss: 0.9470\n"
          ]
        },
        {
          "name": "stderr",
          "output_type": "stream",
          "text": [
            "\r 99%|█████████▉| 99/100 [2:22:19<01:24, 84.67s/it]"
          ]
        },
        {
          "name": "stdout",
          "output_type": "stream",
          "text": [
            "Epoch 99: Train Loss: 0.2155, Test Loss: 0.9638\n"
          ]
        },
        {
          "name": "stderr",
          "output_type": "stream",
          "text": [
            "100%|██████████| 100/100 [2:23:40<00:00, 86.21s/it]"
          ]
        },
        {
          "name": "stdout",
          "output_type": "stream",
          "text": [
            "Epoch 100: Train Loss: 0.2210, Test Loss: 0.9381\n"
          ]
        },
        {
          "name": "stderr",
          "output_type": "stream",
          "text": [
            "\n"
          ]
        }
      ],
      "source": [
        "best_model = None\n",
        "best_loss = np.inf\n",
        "\n",
        "# Training loop\n",
        "for epoch in tqdm(range(n_epochs)):\n",
        "    model.train()\n",
        "    train_loss = 0\n",
        "    for X_batch, y_batch in train_loader:\n",
        "        # X_batch = (X_batch.reshape(batch_size, seq_length, -1))\n",
        "        # print(X_batch.shape, batch_size)\n",
        "        y_pred = model(X_batch) #forward pass\n",
        "        loss = loss_fn(y_pred, y_batch)\n",
        "        optimizer.zero_grad()\n",
        "        loss.backward()\n",
        "        optimizer.step()\n",
        "        train_loss += loss.item()\n",
        "\n",
        "    train_loss /= len(train_loader.dataset)\n",
        "\n",
        "    # Validation\n",
        "    model.eval()\n",
        "    test_loss = 0\n",
        "    with torch.no_grad():\n",
        "        for X_batch, y_batch in test_loader:\n",
        "            y_pred = model(X_batch)\n",
        "            loss = loss_fn(y_pred, y_batch)\n",
        "            test_loss += loss.item()\n",
        "\n",
        "    test_loss /= len(test_loader.dataset)\n",
        "\n",
        "    if test_loss < best_loss:\n",
        "        best_loss = test_loss\n",
        "        best_model = model.state_dict()\n",
        "\n",
        "    print(f\"Epoch {epoch + 1}: Train Loss: {train_loss:.4f}, Test Loss: {test_loss:.4f}\")\n",
        "\n",
        "# Save the best model and char_to_int dictionary\n",
        "torch.save([best_model, char_to_int], \"single-char_finetune.pth\")\n"
      ]
    },
    {
      "cell_type": "code",
      "execution_count": null,
      "metadata": {
        "id": "x1d-JwnuhWop"
      },
      "outputs": [],
      "source": [
        "torch.save([best_model, char_to_int], \"single-char_finetune.pth\")\n"
      ]
    },
    {
      "cell_type": "code",
      "execution_count": 79,
      "metadata": {
        "colab": {
          "base_uri": "https://localhost:8080/"
        },
        "id": "WTknQPyQOODm",
        "outputId": "ce77581d-fa02-4809-a1ca-45b2c3ac0027"
      },
      "outputs": [
        {
          "output_type": "stream",
          "name": "stdout",
          "text": [
            "parametrich ph jed x p ph dinin k7 win pedininin d dy wininin dininin ph-n ph pth 2 majed\n"
          ]
        }
      ],
      "source": [
        "def generate_sequence(model, seed, n_chars, char_to_int, int_to_char):\n",
        "    model.eval()\n",
        "    with torch.no_grad():\n",
        "        x = np.zeros((1, len(seed), len(char_to_int)), dtype=float)\n",
        "        for t, char in enumerate(seed):\n",
        "            x[0, t, char_to_int[char]] = 1.0\n",
        "        x = torch.tensor(x, dtype=torch.float32)\n",
        "\n",
        "        hidden = None\n",
        "        generated_text = seed\n",
        "\n",
        "        for _ in range(n_chars):\n",
        "            output = model(x)\n",
        "            output = torch.softmax(output, dim=1)\n",
        "            char_index = torch.multinomial(output, 1).item()\n",
        "            char = int_to_char[char_index]\n",
        "            generated_text += char\n",
        "\n",
        "            # Prepare input for next character generation\n",
        "            x = np.zeros((1, 1, len(char_to_int)), dtype=float)\n",
        "            x[0, 0, char_index] = 1.0\n",
        "            x = torch.tensor(x, dtype=torch.float32)\n",
        "\n",
        "    return generated_text\n",
        "\n",
        "\n",
        "int_to_char = dict((i,c) for i,c in enumerate(chars))\n",
        "\n",
        "# Generate a sequence\n",
        "seed = 'Parametri'.lower()\n",
        "x = np.zeros((1, len(seed), len(chars)), dtype=float)\n",
        "for t, char in enumerate(seed): #tth character in the title\n",
        "     x[0, t, char_to_int[char]] = 1.0\n",
        "x = torch.tensor(x, dtype=torch.float32)\n",
        "\n",
        "# print(x)\n",
        "n_chars = 80  # Number of characters to generate\n",
        "generated_text = generate_sequence(model, seed, n_chars, char_to_int, int_to_char)\n",
        "print(generated_text)\n"
      ]
    }
  ],
  "metadata": {
    "colab": {
      "gpuType": "T4",
      "provenance": []
    },
    "kernelspec": {
      "display_name": "Python 3",
      "name": "python3"
    },
    "language_info": {
      "codemirror_mode": {
        "name": "ipython",
        "version": 3
      },
      "file_extension": ".py",
      "mimetype": "text/x-python",
      "name": "python",
      "nbconvert_exporter": "python",
      "pygments_lexer": "ipython3",
      "version": "3.9.19"
    }
  },
  "nbformat": 4,
  "nbformat_minor": 0
}