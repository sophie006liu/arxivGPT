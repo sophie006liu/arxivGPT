{
 "cells": [
  {
   "cell_type": "code",
   "execution_count": 7,
   "metadata": {},
   "outputs": [],
   "source": [
    "from glob import glob\n",
    "\n",
    "files = glob(\"/Users/sophieliu/git_desktop/rizzGPT/arxiv_crawled_pages/cs/*\")"
   ]
  },
  {
   "cell_type": "code",
   "execution_count": 10,
   "metadata": {},
   "outputs": [
    {
     "name": "stdout",
     "output_type": "stream",
     "text": [
      "Successfully merged 15 files into cs_titles.txt\n"
     ]
    }
   ],
   "source": [
    "import os\n",
    "from glob import glob\n",
    "\n",
    "# Path to the directory containing the txt files\n",
    "directory_path = \"/Users/sophieliu/git_desktop/rizzGPT/arxiv_crawled_pages/cs/*\"\n",
    "output_file = \"cs_titles.txt\"\n",
    "\n",
    "# Find all txt files in the directory\n",
    "txt_files = glob(directory_path)\n",
    "\n",
    "merged_content = []\n",
    "\n",
    "for file_path in txt_files:\n",
    "    with open(file_path, 'r', encoding='utf-8') as file:\n",
    "        merged_content.append(file.read())\n",
    "\n",
    "merged_content_str = \"\\n\".join(merged_content)\n",
    "\n",
    "with open(output_file, 'w', encoding='utf-8') as output_file:\n",
    "    output_file.write(merged_content_str)\n",
    "\n",
    "print(f\"Successfully merged {len(txt_files)} files into {output_file.name}\")\n"
   ]
  },
  {
   "cell_type": "code",
   "execution_count": null,
   "metadata": {},
   "outputs": [],
   "source": [
    "with open(\"all_cs.txt\", \"wb\") as f:\n"
   ]
  }
 ],
 "metadata": {
  "kernelspec": {
   "display_name": "10423proj",
   "language": "python",
   "name": "python3"
  },
  "language_info": {
   "codemirror_mode": {
    "name": "ipython",
    "version": 3
   },
   "file_extension": ".py",
   "mimetype": "text/x-python",
   "name": "python",
   "nbconvert_exporter": "python",
   "pygments_lexer": "ipython3",
   "version": "3.9.19"
  }
 },
 "nbformat": 4,
 "nbformat_minor": 2
}
